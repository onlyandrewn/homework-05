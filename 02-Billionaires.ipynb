{
 "cells": [
  {
   "cell_type": "markdown",
   "metadata": {},
   "source": [
    "# Homework 5, Part 2: Answer questions with pandas\n",
    "\n",
    "**Use the Excel file to answer the following questions.** This is a little more typical of what your data exploration will look like with pandas."
   ]
  },
  {
   "cell_type": "markdown",
   "metadata": {},
   "source": [
    "## 0) Setup\n",
    "\n",
    "Import pandas **with the correct name** ."
   ]
  },
  {
   "cell_type": "code",
   "execution_count": 1,
   "metadata": {},
   "outputs": [],
   "source": [
    "import pandas as pd"
   ]
  },
  {
   "cell_type": "markdown",
   "metadata": {},
   "source": [
    "## 1) Reading in an Excel file\n",
    "\n",
    "Use pandas to read in the `richpeople.xlsx` Excel file, saving it as a variable with the name we'll always use for a dataframe.\n",
    "\n",
    "> **TIP:** You will use `read_excel` instead of `read_csv`. Trying `read_excel` the first time will probably not work, you'll get an error message. Be sure to read the error carefully: *you probably need to install a new library before it will work, and the error tells you what the library is named*."
   ]
  },
  {
   "cell_type": "code",
   "execution_count": 2,
   "metadata": {},
   "outputs": [],
   "source": [
    "df = pd.read_excel(\"richpeople.xlsx\")"
   ]
  },
  {
   "cell_type": "markdown",
   "metadata": {},
   "source": [
    "## 2) Checking your data\n",
    "\n",
    "Display the number of rows and columns in your data. Also display the names and data types of each column."
   ]
  },
  {
   "cell_type": "code",
   "execution_count": 3,
   "metadata": {},
   "outputs": [
    {
     "data": {
      "text/plain": [
       "(1653, 30)"
      ]
     },
     "execution_count": 3,
     "metadata": {},
     "output_type": "execute_result"
    }
   ],
   "source": [
    "df.shape"
   ]
  },
  {
   "cell_type": "code",
   "execution_count": 4,
   "metadata": {},
   "outputs": [
    {
     "data": {
      "text/plain": [
       "year                         int64\n",
       "name                        object\n",
       "rank                         int64\n",
       "citizenship                 object\n",
       "countrycode                 object\n",
       "networthusbillion          float64\n",
       "selfmade                    object\n",
       "typeofwealth                object\n",
       "gender                      object\n",
       "age                        float64\n",
       "industry                    object\n",
       "IndustryAggregates          object\n",
       "region                      object\n",
       "north                        int64\n",
       "politicalconnection        float64\n",
       "founder                      int64\n",
       "generationofinheritance     object\n",
       "sector                      object\n",
       "company                     object\n",
       "companytype                 object\n",
       "relationshiptocompany       object\n",
       "foundingdate               float64\n",
       "gdpcurrentus               float64\n",
       "sourceofwealth              object\n",
       "notes                       object\n",
       "notes2                      object\n",
       "source                      object\n",
       "source_2                    object\n",
       "source_3                    object\n",
       "source_4                    object\n",
       "dtype: object"
      ]
     },
     "execution_count": 4,
     "metadata": {},
     "output_type": "execute_result"
    }
   ],
   "source": [
    "df.dtypes"
   ]
  },
  {
   "cell_type": "markdown",
   "metadata": {},
   "source": [
    "## 3) Who are the top 10 richest billionaires? Use the `networthusbillion` column."
   ]
  },
  {
   "cell_type": "code",
   "execution_count": 5,
   "metadata": {},
   "outputs": [
    {
     "data": {
      "text/html": [
       "<div>\n",
       "<style scoped>\n",
       "    .dataframe tbody tr th:only-of-type {\n",
       "        vertical-align: middle;\n",
       "    }\n",
       "\n",
       "    .dataframe tbody tr th {\n",
       "        vertical-align: top;\n",
       "    }\n",
       "\n",
       "    .dataframe thead th {\n",
       "        text-align: right;\n",
       "    }\n",
       "</style>\n",
       "<table border=\"1\" class=\"dataframe\">\n",
       "  <thead>\n",
       "    <tr style=\"text-align: right;\">\n",
       "      <th></th>\n",
       "      <th>year</th>\n",
       "      <th>name</th>\n",
       "      <th>rank</th>\n",
       "      <th>citizenship</th>\n",
       "      <th>countrycode</th>\n",
       "      <th>networthusbillion</th>\n",
       "      <th>selfmade</th>\n",
       "      <th>typeofwealth</th>\n",
       "      <th>gender</th>\n",
       "      <th>age</th>\n",
       "      <th>...</th>\n",
       "      <th>relationshiptocompany</th>\n",
       "      <th>foundingdate</th>\n",
       "      <th>gdpcurrentus</th>\n",
       "      <th>sourceofwealth</th>\n",
       "      <th>notes</th>\n",
       "      <th>notes2</th>\n",
       "      <th>source</th>\n",
       "      <th>source_2</th>\n",
       "      <th>source_3</th>\n",
       "      <th>source_4</th>\n",
       "    </tr>\n",
       "  </thead>\n",
       "  <tbody>\n",
       "    <tr>\n",
       "      <th>184</th>\n",
       "      <td>2014</td>\n",
       "      <td>Bill Gates</td>\n",
       "      <td>1</td>\n",
       "      <td>United States</td>\n",
       "      <td>USA</td>\n",
       "      <td>76.0</td>\n",
       "      <td>self-made</td>\n",
       "      <td>founder non-finance</td>\n",
       "      <td>male</td>\n",
       "      <td>58.0</td>\n",
       "      <td>...</td>\n",
       "      <td>founder</td>\n",
       "      <td>1975.0</td>\n",
       "      <td>NaN</td>\n",
       "      <td>Microsoft</td>\n",
       "      <td>NaN</td>\n",
       "      <td>NaN</td>\n",
       "      <td>http://www.forbes.com/profile/bill-gates/</td>\n",
       "      <td>NaN</td>\n",
       "      <td>NaN</td>\n",
       "      <td>NaN</td>\n",
       "    </tr>\n",
       "    <tr>\n",
       "      <th>226</th>\n",
       "      <td>2014</td>\n",
       "      <td>Carlos Slim Helu</td>\n",
       "      <td>2</td>\n",
       "      <td>Mexico</td>\n",
       "      <td>MEX</td>\n",
       "      <td>72.0</td>\n",
       "      <td>self-made</td>\n",
       "      <td>privatized and resources</td>\n",
       "      <td>male</td>\n",
       "      <td>74.0</td>\n",
       "      <td>...</td>\n",
       "      <td>founder</td>\n",
       "      <td>1990.0</td>\n",
       "      <td>NaN</td>\n",
       "      <td>telecom</td>\n",
       "      <td>NaN</td>\n",
       "      <td>NaN</td>\n",
       "      <td>http://www.ozy.com/provocateurs/carlos-slims-w...</td>\n",
       "      <td>NaN</td>\n",
       "      <td>NaN</td>\n",
       "      <td>NaN</td>\n",
       "    </tr>\n",
       "    <tr>\n",
       "      <th>79</th>\n",
       "      <td>2014</td>\n",
       "      <td>Amancio Ortega</td>\n",
       "      <td>3</td>\n",
       "      <td>Spain</td>\n",
       "      <td>ESP</td>\n",
       "      <td>64.0</td>\n",
       "      <td>self-made</td>\n",
       "      <td>founder non-finance</td>\n",
       "      <td>male</td>\n",
       "      <td>77.0</td>\n",
       "      <td>...</td>\n",
       "      <td>founder</td>\n",
       "      <td>1975.0</td>\n",
       "      <td>NaN</td>\n",
       "      <td>retail</td>\n",
       "      <td>NaN</td>\n",
       "      <td>NaN</td>\n",
       "      <td>http://www.forbes.com/profile/amancio-ortega/</td>\n",
       "      <td>NaN</td>\n",
       "      <td>NaN</td>\n",
       "      <td>NaN</td>\n",
       "    </tr>\n",
       "    <tr>\n",
       "      <th>1562</th>\n",
       "      <td>2014</td>\n",
       "      <td>Warren Buffett</td>\n",
       "      <td>4</td>\n",
       "      <td>United States</td>\n",
       "      <td>USA</td>\n",
       "      <td>58.2</td>\n",
       "      <td>self-made</td>\n",
       "      <td>founder non-finance</td>\n",
       "      <td>male</td>\n",
       "      <td>83.0</td>\n",
       "      <td>...</td>\n",
       "      <td>founder</td>\n",
       "      <td>1839.0</td>\n",
       "      <td>NaN</td>\n",
       "      <td>Berkshire Hathaway</td>\n",
       "      <td>NaN</td>\n",
       "      <td>NaN</td>\n",
       "      <td>http://www.forbes.com/lists/2009/10/billionair...</td>\n",
       "      <td>http://www.forbes.com/companies/berkshire-hath...</td>\n",
       "      <td>NaN</td>\n",
       "      <td>NaN</td>\n",
       "    </tr>\n",
       "    <tr>\n",
       "      <th>862</th>\n",
       "      <td>2014</td>\n",
       "      <td>Larry Ellison</td>\n",
       "      <td>5</td>\n",
       "      <td>United States</td>\n",
       "      <td>USA</td>\n",
       "      <td>48.0</td>\n",
       "      <td>self-made</td>\n",
       "      <td>founder non-finance</td>\n",
       "      <td>male</td>\n",
       "      <td>69.0</td>\n",
       "      <td>...</td>\n",
       "      <td>founder</td>\n",
       "      <td>1977.0</td>\n",
       "      <td>NaN</td>\n",
       "      <td>Oracle</td>\n",
       "      <td>NaN</td>\n",
       "      <td>NaN</td>\n",
       "      <td>http://www.forbes.com/profile/larry-ellison/</td>\n",
       "      <td>http://www.businessinsider.com/how-larry-ellis...</td>\n",
       "      <td>NaN</td>\n",
       "      <td>NaN</td>\n",
       "    </tr>\n",
       "    <tr>\n",
       "      <th>339</th>\n",
       "      <td>2014</td>\n",
       "      <td>David Koch</td>\n",
       "      <td>6</td>\n",
       "      <td>United States</td>\n",
       "      <td>USA</td>\n",
       "      <td>40.0</td>\n",
       "      <td>inherited</td>\n",
       "      <td>inherited</td>\n",
       "      <td>male</td>\n",
       "      <td>73.0</td>\n",
       "      <td>...</td>\n",
       "      <td>relation</td>\n",
       "      <td>1940.0</td>\n",
       "      <td>NaN</td>\n",
       "      <td>diversified</td>\n",
       "      <td>inherited from father</td>\n",
       "      <td>NaN</td>\n",
       "      <td>http://www.kochind.com/About_Koch/History_Time...</td>\n",
       "      <td>NaN</td>\n",
       "      <td>NaN</td>\n",
       "      <td>NaN</td>\n",
       "    </tr>\n",
       "    <tr>\n",
       "      <th>247</th>\n",
       "      <td>2014</td>\n",
       "      <td>Charles Koch</td>\n",
       "      <td>6</td>\n",
       "      <td>United States</td>\n",
       "      <td>USA</td>\n",
       "      <td>40.0</td>\n",
       "      <td>inherited</td>\n",
       "      <td>inherited</td>\n",
       "      <td>male</td>\n",
       "      <td>78.0</td>\n",
       "      <td>...</td>\n",
       "      <td>relation</td>\n",
       "      <td>1940.0</td>\n",
       "      <td>NaN</td>\n",
       "      <td>diversified</td>\n",
       "      <td>inherited from father</td>\n",
       "      <td>NaN</td>\n",
       "      <td>http://www.kochind.com/About_Koch/History_Time...</td>\n",
       "      <td>NaN</td>\n",
       "      <td>NaN</td>\n",
       "      <td>NaN</td>\n",
       "    </tr>\n",
       "    <tr>\n",
       "      <th>1364</th>\n",
       "      <td>2014</td>\n",
       "      <td>Sheldon Adelson</td>\n",
       "      <td>8</td>\n",
       "      <td>United States</td>\n",
       "      <td>USA</td>\n",
       "      <td>38.0</td>\n",
       "      <td>self-made</td>\n",
       "      <td>self-made finance</td>\n",
       "      <td>male</td>\n",
       "      <td>80.0</td>\n",
       "      <td>...</td>\n",
       "      <td>founder</td>\n",
       "      <td>1952.0</td>\n",
       "      <td>NaN</td>\n",
       "      <td>casinos</td>\n",
       "      <td>NaN</td>\n",
       "      <td>NaN</td>\n",
       "      <td>http://www.forbes.com/profile/sheldon-adelson/</td>\n",
       "      <td>http://lasvegassun.com/news/1996/nov/26/rat-pa...</td>\n",
       "      <td>NaN</td>\n",
       "      <td>NaN</td>\n",
       "    </tr>\n",
       "    <tr>\n",
       "      <th>280</th>\n",
       "      <td>2014</td>\n",
       "      <td>Christy Walton</td>\n",
       "      <td>9</td>\n",
       "      <td>United States</td>\n",
       "      <td>USA</td>\n",
       "      <td>36.7</td>\n",
       "      <td>inherited</td>\n",
       "      <td>inherited</td>\n",
       "      <td>female</td>\n",
       "      <td>59.0</td>\n",
       "      <td>...</td>\n",
       "      <td>relation</td>\n",
       "      <td>1962.0</td>\n",
       "      <td>NaN</td>\n",
       "      <td>Wal-Mart</td>\n",
       "      <td>widow</td>\n",
       "      <td>NaN</td>\n",
       "      <td>http://www.forbes.com/profile/christy-walton/</td>\n",
       "      <td>NaN</td>\n",
       "      <td>NaN</td>\n",
       "      <td>NaN</td>\n",
       "    </tr>\n",
       "    <tr>\n",
       "      <th>724</th>\n",
       "      <td>2014</td>\n",
       "      <td>Jim Walton</td>\n",
       "      <td>10</td>\n",
       "      <td>United States</td>\n",
       "      <td>USA</td>\n",
       "      <td>34.7</td>\n",
       "      <td>inherited</td>\n",
       "      <td>inherited</td>\n",
       "      <td>male</td>\n",
       "      <td>66.0</td>\n",
       "      <td>...</td>\n",
       "      <td>relation</td>\n",
       "      <td>1962.0</td>\n",
       "      <td>NaN</td>\n",
       "      <td>Wal-Mart</td>\n",
       "      <td>inherited from father</td>\n",
       "      <td>NaN</td>\n",
       "      <td>http://www.forbes.com/profile/jim-walton/</td>\n",
       "      <td>NaN</td>\n",
       "      <td>NaN</td>\n",
       "      <td>NaN</td>\n",
       "    </tr>\n",
       "  </tbody>\n",
       "</table>\n",
       "<p>10 rows × 30 columns</p>\n",
       "</div>"
      ],
      "text/plain": [
       "      year              name  rank    citizenship countrycode  \\\n",
       "184   2014        Bill Gates     1  United States         USA   \n",
       "226   2014  Carlos Slim Helu     2         Mexico         MEX   \n",
       "79    2014    Amancio Ortega     3          Spain         ESP   \n",
       "1562  2014    Warren Buffett     4  United States         USA   \n",
       "862   2014     Larry Ellison     5  United States         USA   \n",
       "339   2014        David Koch     6  United States         USA   \n",
       "247   2014      Charles Koch     6  United States         USA   \n",
       "1364  2014   Sheldon Adelson     8  United States         USA   \n",
       "280   2014    Christy Walton     9  United States         USA   \n",
       "724   2014        Jim Walton    10  United States         USA   \n",
       "\n",
       "      networthusbillion   selfmade              typeofwealth  gender   age  \\\n",
       "184                76.0  self-made       founder non-finance    male  58.0   \n",
       "226                72.0  self-made  privatized and resources    male  74.0   \n",
       "79                 64.0  self-made       founder non-finance    male  77.0   \n",
       "1562               58.2  self-made       founder non-finance    male  83.0   \n",
       "862                48.0  self-made       founder non-finance    male  69.0   \n",
       "339                40.0  inherited                 inherited    male  73.0   \n",
       "247                40.0  inherited                 inherited    male  78.0   \n",
       "1364               38.0  self-made         self-made finance    male  80.0   \n",
       "280                36.7  inherited                 inherited  female  59.0   \n",
       "724                34.7  inherited                 inherited    male  66.0   \n",
       "\n",
       "      ... relationshiptocompany foundingdate gdpcurrentus      sourceofwealth  \\\n",
       "184   ...               founder       1975.0          NaN           Microsoft   \n",
       "226   ...               founder       1990.0          NaN             telecom   \n",
       "79    ...               founder       1975.0          NaN              retail   \n",
       "1562  ...               founder       1839.0          NaN  Berkshire Hathaway   \n",
       "862   ...               founder       1977.0          NaN              Oracle   \n",
       "339   ...              relation       1940.0          NaN         diversified   \n",
       "247   ...              relation       1940.0          NaN         diversified   \n",
       "1364  ...               founder       1952.0          NaN             casinos   \n",
       "280   ...              relation       1962.0          NaN            Wal-Mart   \n",
       "724   ...              relation       1962.0          NaN            Wal-Mart   \n",
       "\n",
       "                      notes  notes2  \\\n",
       "184                     NaN     NaN   \n",
       "226                     NaN     NaN   \n",
       "79                      NaN     NaN   \n",
       "1562                    NaN     NaN   \n",
       "862                     NaN     NaN   \n",
       "339   inherited from father     NaN   \n",
       "247   inherited from father     NaN   \n",
       "1364                    NaN     NaN   \n",
       "280                   widow     NaN   \n",
       "724   inherited from father     NaN   \n",
       "\n",
       "                                                 source  \\\n",
       "184           http://www.forbes.com/profile/bill-gates/   \n",
       "226   http://www.ozy.com/provocateurs/carlos-slims-w...   \n",
       "79        http://www.forbes.com/profile/amancio-ortega/   \n",
       "1562  http://www.forbes.com/lists/2009/10/billionair...   \n",
       "862        http://www.forbes.com/profile/larry-ellison/   \n",
       "339   http://www.kochind.com/About_Koch/History_Time...   \n",
       "247   http://www.kochind.com/About_Koch/History_Time...   \n",
       "1364     http://www.forbes.com/profile/sheldon-adelson/   \n",
       "280       http://www.forbes.com/profile/christy-walton/   \n",
       "724           http://www.forbes.com/profile/jim-walton/   \n",
       "\n",
       "                                               source_2 source_3 source_4  \n",
       "184                                                 NaN      NaN      NaN  \n",
       "226                                                 NaN      NaN      NaN  \n",
       "79                                                  NaN      NaN      NaN  \n",
       "1562  http://www.forbes.com/companies/berkshire-hath...      NaN      NaN  \n",
       "862   http://www.businessinsider.com/how-larry-ellis...      NaN      NaN  \n",
       "339                                                 NaN      NaN      NaN  \n",
       "247                                                 NaN      NaN      NaN  \n",
       "1364  http://lasvegassun.com/news/1996/nov/26/rat-pa...      NaN      NaN  \n",
       "280                                                 NaN      NaN      NaN  \n",
       "724                                                 NaN      NaN      NaN  \n",
       "\n",
       "[10 rows x 30 columns]"
      ]
     },
     "execution_count": 5,
     "metadata": {},
     "output_type": "execute_result"
    }
   ],
   "source": [
    "df.sort_values(by=\"networthusbillion\", ascending=False).head(10)"
   ]
  },
  {
   "cell_type": "markdown",
   "metadata": {},
   "source": [
    "## 4) How many male billionaires are there compared to the number of female billionares? What percent is that? Do they have a different average wealth?\n",
    "\n",
    "> **TIP:** The last part uses `groupby`, but the count/percent part does not.\n",
    "> **TIP:** When I say \"average,\" you can pick what kind of average you use."
   ]
  },
  {
   "cell_type": "code",
   "execution_count": 6,
   "metadata": {},
   "outputs": [
    {
     "data": {
      "text/plain": [
       "male      1473\n",
       "female     180\n",
       "Name: gender, dtype: int64"
      ]
     },
     "execution_count": 6,
     "metadata": {},
     "output_type": "execute_result"
    }
   ],
   "source": [
    "df.gender.value_counts()"
   ]
  },
  {
   "cell_type": "code",
   "execution_count": 7,
   "metadata": {},
   "outputs": [
    {
     "name": "stdout",
     "output_type": "stream",
     "text": [
      "89.11%\n",
      "10.89%\n"
     ]
    }
   ],
   "source": [
    "male = df[df.gender == \"male\"]\n",
    "female = df[df.gender == \"female\"]\n",
    "\n",
    "pct_male = (male.shape[0] / df.gender.value_counts().sum()) * 100\n",
    "pct_female = (female.shape[0] / df.gender.value_counts().sum()) * 100\n",
    "\n",
    "print(f\"{pct_male:.2f}%\")\n",
    "print(f\"{pct_female:.2f}%\")"
   ]
  },
  {
   "cell_type": "code",
   "execution_count": 8,
   "metadata": {},
   "outputs": [
    {
     "data": {
      "text/plain": [
       "gender\n",
       "female    3.920556\n",
       "male      3.902716\n",
       "Name: networthusbillion, dtype: float64"
      ]
     },
     "execution_count": 8,
     "metadata": {},
     "output_type": "execute_result"
    }
   ],
   "source": [
    "df.groupby(by=\"gender\").networthusbillion.mean()"
   ]
  },
  {
   "cell_type": "markdown",
   "metadata": {},
   "source": [
    "## 5) What is the most common source/type of wealth? Is it different between males and females?\n",
    "\n",
    "> **TIP:** You know how to `groupby` and you know how to count how many times a value is in a column. Can you put them together???\n",
    "> **TIP:** Use percentages for this, it makes it a lot more readable."
   ]
  },
  {
   "cell_type": "code",
   "execution_count": 9,
   "metadata": {},
   "outputs": [
    {
     "data": {
      "text/plain": [
       "inherited                   506\n",
       "founder non-finance         467\n",
       "self-made finance           344\n",
       "privatized and resources    192\n",
       "executive                   142\n",
       "Name: typeofwealth, dtype: int64"
      ]
     },
     "execution_count": 9,
     "metadata": {},
     "output_type": "execute_result"
    }
   ],
   "source": [
    "df.typeofwealth.value_counts()"
   ]
  },
  {
   "cell_type": "code",
   "execution_count": 10,
   "metadata": {},
   "outputs": [
    {
     "data": {
      "text/plain": [
       "0    inherited\n",
       "Name: typeofwealth, dtype: object"
      ]
     },
     "execution_count": 10,
     "metadata": {},
     "output_type": "execute_result"
    }
   ],
   "source": [
    "df.typeofwealth.mode()"
   ]
  },
  {
   "cell_type": "markdown",
   "metadata": {},
   "source": [
    "## 6) What companies have the most billionaires? Graph the top 5 as a horizontal bar graph.\n",
    "\n",
    "> **TIP:** First find the answer to the question, then just try to throw `.plot()` on the end\n",
    ">\n",
    "> **TIP:** You can use `.head()` on *anything*, not just your basic `df`\n",
    ">\n",
    "> **TIP:** You might feel like you should use `groupby`, but don't! There's an easier way to count.\n",
    ">\n",
    "> **TIP:** Make the largest bar be at the top of the graph\n",
    ">\n",
    "> **TIP:** If your chart seems... weird, think about where in the process you're sorting vs using `head`"
   ]
  },
  {
   "cell_type": "code",
   "execution_count": 11,
   "metadata": {},
   "outputs": [],
   "source": [
    "import matplotlib"
   ]
  },
  {
   "cell_type": "code",
   "execution_count": 12,
   "metadata": {},
   "outputs": [
    {
     "data": {
      "text/plain": [
       "<AxesSubplot:>"
      ]
     },
     "execution_count": 12,
     "metadata": {},
     "output_type": "execute_result"
    },
    {
     "data": {
      "image/png": "[encoded data removed]",
      "text/plain": [
       "<Figure size 432x288 with 1 Axes>"
      ]
     },
     "metadata": {
      "needs_background": "light"
     },
     "output_type": "display_data"
    }
   ],
   "source": [
    "df.sourceofwealth.value_counts().head(5).sort_values(ascending=True).plot.barh()"
   ]
  },
  {
   "cell_type": "markdown",
   "metadata": {},
   "source": [
    "## 7) How much money do these billionaires have in total?"
   ]
  },
  {
   "cell_type": "code",
   "execution_count": 13,
   "metadata": {},
   "outputs": [
    {
     "data": {
      "text/plain": [
       "6454.400000000001"
      ]
     },
     "execution_count": 13,
     "metadata": {},
     "output_type": "execute_result"
    }
   ],
   "source": [
    "money_total = df.networthusbillion.sum()\n",
    "money_total"
   ]
  },
  {
   "cell_type": "markdown",
   "metadata": {},
   "source": [
    "## 8) What are the top 10 countries with the most money held by billionaires?\n",
    "\n",
    "I am **not** asking which country has the most billionaires - this is **total amount of money per country.**\n",
    "\n",
    "> **TIP:** Think about it in steps - \"I want them organized by country,\" \"I want their net worth,\" \"I want to add it all up,\" and \"I want 10 of them.\" Just chain it all together."
   ]
  },
  {
   "cell_type": "code",
   "execution_count": 14,
   "metadata": {},
   "outputs": [
    {
     "data": {
      "text/plain": [
       "countrycode\n",
       "BRA    192.2\n",
       "CAN    112.8\n",
       "AUS     85.4\n",
       "CHE     80.2\n",
       "CHL     41.3\n",
       "AUT     33.8\n",
       "ARE     14.6\n",
       "ARG     11.3\n",
       "BEL      8.0\n",
       "AGO      3.7\n",
       "Name: networthusbillion, dtype: float64"
      ]
     },
     "execution_count": 14,
     "metadata": {},
     "output_type": "execute_result"
    }
   ],
   "source": [
    "df.groupby(by=\"countrycode\").networthusbillion.sum().head(10).sort_values(ascending=False)"
   ]
  },
  {
   "cell_type": "markdown",
   "metadata": {},
   "source": [
    "## 9) How old is an average billionaire? How old are self-made billionaires  vs. non self-made billionaires? "
   ]
  },
  {
   "cell_type": "code",
   "execution_count": 15,
   "metadata": {},
   "outputs": [
    {
     "name": "stdout",
     "output_type": "stream",
     "text": [
      "The average age of a billionarie is 63.34213836477988.\n"
     ]
    }
   ],
   "source": [
    "avg_age_billionaire = df.age.mean()\n",
    "\n",
    "print(f\"The average age of a billionarie is {avg_age_billionaire}.\")"
   ]
  },
  {
   "cell_type": "code",
   "execution_count": 16,
   "metadata": {},
   "outputs": [
    {
     "name": "stdout",
     "output_type": "stream",
     "text": [
      "The average age of a self-made billionarie is 62.62589928057554.\n",
      "The average age of a non self-made billionarie is 65.00836820083683.\n"
     ]
    }
   ],
   "source": [
    "self_made = df[df.selfmade == \"self-made\"].age.mean()\n",
    "non_self_made = df[df.selfmade != \"self-made\"].age.mean()\n",
    "\n",
    "print(f\"The average age of a self-made billionarie is {self_made}.\")\n",
    "print(f\"The average age of a non self-made billionarie is {non_self_made}.\")"
   ]
  },
  {
   "cell_type": "markdown",
   "metadata": {},
   "source": [
    "## 10) Who are the youngest billionaires? Who are the oldest? Make a graph of the distribution of ages.\n",
    "\n",
    "> **TIP:** You use `.plot()` to graph values in a column independently, but `.hist()` to draw a [histogram](https://www.mathsisfun.com/data/histograms.html) of the distribution of their values"
   ]
  },
  {
   "cell_type": "code",
   "execution_count": 17,
   "metadata": {},
   "outputs": [
    {
     "name": "stdout",
     "output_type": "stream",
     "text": [
      "The youngest billionaire is 24 years old.\n"
     ]
    }
   ],
   "source": [
    "youngest_b = df.age.min()\n",
    "print(f\"The youngest billionaire is {youngest_b:.0f} years old.\")"
   ]
  },
  {
   "cell_type": "code",
   "execution_count": 18,
   "metadata": {},
   "outputs": [
    {
     "name": "stdout",
     "output_type": "stream",
     "text": [
      "The oldest billionaire is 98 years old.\n"
     ]
    }
   ],
   "source": [
    "oldest_b = df.age.max()\n",
    "print(f\"The oldest billionaire is {oldest_b:.0f} years old.\")"
   ]
  },
  {
   "cell_type": "code",
   "execution_count": 19,
   "metadata": {},
   "outputs": [
    {
     "data": {
      "text/plain": [
       "<AxesSubplot:>"
      ]
     },
     "execution_count": 19,
     "metadata": {},
     "output_type": "execute_result"
    },
    {
     "data": {
      "image/png": "[encoded data removed]",
      "text/plain": [
       "<Figure size 432x288 with 1 Axes>"
      ]
     },
     "metadata": {
      "needs_background": "light"
     },
     "output_type": "display_data"
    }
   ],
   "source": [
    "# df.age.plot()\n",
    "df.age.hist()"
   ]
  },
  {
   "cell_type": "markdown",
   "metadata": {},
   "source": [
    "## 11) Make a scatterplot of net worth compared to age"
   ]
  },
  {
   "cell_type": "code",
   "execution_count": 20,
   "metadata": {},
   "outputs": [
    {
     "data": {
      "text/plain": [
       "<AxesSubplot:xlabel='networthusbillion', ylabel='age'>"
      ]
     },
     "execution_count": 20,
     "metadata": {},
     "output_type": "execute_result"
    },
    {
     "data": {
      "image/png": "[encoded data removed]",
      "text/plain": [
       "<Figure size 432x288 with 1 Axes>"
      ]
     },
     "metadata": {
      "needs_background": "light"
     },
     "output_type": "display_data"
    }
   ],
   "source": [
    "df.plot.scatter(x=\"networthusbillion\", y=\"age\")"
   ]
  },
  {
   "cell_type": "markdown",
   "metadata": {},
   "source": [
    "## 13) Make a bar graph of the wealth of the top 10 richest billionaires\n",
    "\n",
    "> **TIP:** When you make your plot, you'll need to set the `x` and `y` or else your chart will look _crazy_\n",
    ">\n",
    "> **TIP:** x and y might be the opposite of what you expect them to be"
   ]
  },
  {
   "cell_type": "code",
   "execution_count": 21,
   "metadata": {},
   "outputs": [
    {
     "data": {
      "text/plain": [
       "<AxesSubplot:xlabel='name'>"
      ]
     },
     "execution_count": 21,
     "metadata": {},
     "output_type": "execute_result"
    },
    {
     "data": {
      "image/png": "[encoded data removed]",
      "text/plain": [
       "<Figure size 432x288 with 1 Axes>"
      ]
     },
     "metadata": {
      "needs_background": "light"
     },
     "output_type": "display_data"
    }
   ],
   "source": [
    "df.sort_values(by=\"networthusbillion\", ascending=False).head(10).plot(kind=\"bar\", x=\"name\", y=\"networthusbillion\")"
   ]
  }
 ],
 "metadata": {
  "kernelspec": {
   "display_name": "Python 3 (ipykernel)",
   "language": "python",
   "name": "python3"
  },
  "language_info": {
   "codemirror_mode": {
    "name": "ipython",
    "version": 3
   },
   "file_extension": ".py",
   "mimetype": "text/x-python",
   "name": "python",
   "nbconvert_exporter": "python",
   "pygments_lexer": "ipython3",
   "version": "3.10.3"
  }
 },
 "nbformat": 4,
 "nbformat_minor": 2
}
